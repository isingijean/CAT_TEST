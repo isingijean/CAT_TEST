{
 "cells": [
  {
   "cell_type": "code",
   "execution_count": 7,
   "metadata": {},
   "outputs": [
    {
     "name": "stdout",
     "output_type": "stream",
     "text": [
      "Failed to create database called: rp_huye_db_l7\n"
     ]
    }
   ],
   "source": [
    "# DATABASE CREATION\n",
    "import mysql.connector\n",
    "conn = mysql.connector.connect(host=\"localhost\", user=\"root\", password=\"\")\n",
    "cursor = conn.cursor()\n",
    "my_db = \"rp_huye_db_l7\"\n",
    "try:\n",
    "    cursor.execute(f\"CREATE DATABASE {my_db} \")\n",
    "    print(\"Database created successfully!\")\n",
    "except:\n",
    "    print(f\"Failed to create database called: {my_db}\")\n",
    "    \n",
    "# cursor.close()\n",
    "# conn.close()\n"
   ]
  },
  {
   "cell_type": "code",
   "execution_count": 8,
   "metadata": {},
   "outputs": [],
   "source": [
    "# REUSABLE LINE FOR CONNECTION OF DB AND ITS TABLES\n",
    "my_db=\"rp_huye_db_l7\"\n",
    "table = \"students\"\n",
    "table2 = 'course'\n",
    "conn = mysql.connector.connect(host=\"localhost\", user=\"root\", password=\"\", database=my_db)\n",
    "cursor = conn.cursor()"
   ]
  },
  {
   "cell_type": "code",
   "execution_count": 9,
   "metadata": {},
   "outputs": [
    {
     "name": "stdout",
     "output_type": "stream",
     "text": [
      "failed to create a table: students\n"
     ]
    }
   ],
   "source": [
    "# CREATE TABLE\n",
    "try:\n",
    "    \n",
    "    cursor.execute(f\"\"\"\n",
    "    CREATE TABLE {table} (\n",
    "    id INT AUTO_INCREMENT PRIMARY KEY,\n",
    "    name VARCHAR(40),\n",
    "    email VARCHAR(40) UNIQUE,\n",
    "    age INT,\n",
    "    gender VARCHAR(10),\n",
    "    major VARCHAR(100)\n",
    "    \n",
    "    )\n",
    "    \"\"\")\n",
    "    print(f\"{table} Table created successfully!\")\n",
    "except:\n",
    "        print(f'failed to create a table: {table}')"
   ]
  },
  {
   "cell_type": "code",
   "execution_count": 14,
   "metadata": {},
   "outputs": [
    {
     "name": "stdout",
     "output_type": "stream",
     "text": [
      "Failed to insert students data\n"
     ]
    }
   ],
   "source": [
    "# INSERT DATA INTO MYSQL TABLE\n",
    "try:\n",
    "    sql = f\"INSERT INTO {table} (name, email, age, gender, major) VALUES (%s, %s, %s, %s, %s)\"\n",
    "    #values = (\"UWINEZA Alice\",\"alise@gmail.com\", 30,\"female\", \"Road Engineeriing\")\n",
    "    #values = (\"KOMERA Kemmy\",\"komera@gmail.com\", 10,\"Male\", \"Computer Engineeriing\")\n",
    "    values = (\"Abimana Afssa\", 27, \"Electronics\")\n",
    "    cursor.execute(sql,values)\n",
    "    conn.commit() # SAVE THE CHANGE INTO TABLE\n",
    "    print(cursor.rowcount, f\"New {table} Record Inserted Successfully!\")\n",
    "except:\n",
    "    print(f\"Failed to insert {table} data\")"
   ]
  },
  {
   "cell_type": "code",
   "execution_count": 15,
   "metadata": {},
   "outputs": [
    {
     "name": "stdout",
     "output_type": "stream",
     "text": [
      "(1, 'KALISA Emmy', 'kalisa@gmail.com', 30, 'Male', 'Civil Engineeriing')\n",
      "(3, 'UWINEZA Alice', 'alise@gmail.com', 30, 'female', 'Road Engineeriing')\n",
      "(4, 'KOMERA Kemmy', 'komera@gmail.com', 10, 'Male', 'Computer Engineeriing')\n"
     ]
    }
   ],
   "source": [
    "try:\n",
    "    cursor.execute(f\"\"\"select * from {table}\"\"\")\n",
    "    result=cursor.fetchall()\n",
    "    for row in result:\n",
    "        print(f\"{row}\")\n",
    "except:\n",
    "    print(f\"Failed to fetch record from {table} table\")"
   ]
  }
 ],
 "metadata": {
  "kernelspec": {
   "display_name": "Python 3",
   "language": "python",
   "name": "python3"
  },
  "language_info": {
   "codemirror_mode": {
    "name": "ipython",
    "version": 3
   },
   "file_extension": ".py",
   "mimetype": "text/x-python",
   "name": "python",
   "nbconvert_exporter": "python",
   "pygments_lexer": "ipython3",
   "version": "3.13.1"
  }
 },
 "nbformat": 4,
 "nbformat_minor": 2
}
