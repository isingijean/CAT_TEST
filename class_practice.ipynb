{
 "cells": [
  {
   "cell_type": "code",
   "execution_count": 1,
   "metadata": {},
   "outputs": [
    {
     "name": "stdout",
     "output_type": "stream",
     "text": [
      "your file has deleted!\n"
     ]
    }
   ],
   "source": [
    "import os\n",
    "file='test.txt'\n",
    "if os.path.exists(file):\n",
    "    os.remove(file)\n",
    "    print('your file has deleted!')\n",
    "\n",
    "else:\n",
    "    print('there is no file found!!!')"
   ]
  },
  {
   "cell_type": "code",
   "execution_count": 2,
   "metadata": {},
   "outputs": [
    {
     "name": "stdout",
     "output_type": "stream",
     "text": [
      "no folder found\n"
     ]
    }
   ],
   "source": [
    "import os\n",
    "path1='folder'\n",
    "if os.path.exists(path1):\n",
    "    os.rmdir(path1)\n",
    "\n",
    "    print(\"folder has deleted\")\n",
    "else:\n",
    "   print(\"no folder found\")"
   ]
  }
 ],
 "metadata": {
  "kernelspec": {
   "display_name": "Python 3",
   "language": "python",
   "name": "python3"
  },
  "language_info": {
   "codemirror_mode": {
    "name": "ipython",
    "version": 3
   },
   "file_extension": ".py",
   "mimetype": "text/x-python",
   "name": "python",
   "nbconvert_exporter": "python",
   "pygments_lexer": "ipython3",
   "version": "3.13.1"
  }
 },
 "nbformat": 4,
 "nbformat_minor": 2
}
