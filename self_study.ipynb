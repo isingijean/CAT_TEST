{
 "cells": [
  {
   "cell_type": "code",
   "execution_count": 5,
   "metadata": {},
   "outputs": [
    {
     "name": "stdout",
     "output_type": "stream",
     "text": [
      "Hello Jado your age after 20 ages is 43\n"
     ]
    }
   ],
   "source": [
    "name = input((\"Enter your name:\"))\n",
    "age = int (input(\"Enter your Ages: \"))\n",
    "\n",
    "future_age = age + 20\n",
    "\n",
    "print(f\"Hello {name} your age after 20 ages is {future_age}\")\n",
    "\n"
   ]
  },
  {
   "cell_type": "code",
   "execution_count": 11,
   "metadata": {},
   "outputs": [
    {
     "name": "stdout",
     "output_type": "stream",
     "text": [
      "2003: is invalid marks\n",
      "Enter marks in range of 1-100\n"
     ]
    }
   ],
   "source": [
    "marks = int(input(\"Enter your Marks here:\"))\n",
    "if marks>=90 and marks<100:\n",
    "    print(f\" Your marks: {marks} You Passed at High Level\")\n",
    "elif marks>70 and marks<89:\n",
    "    print(f\"Your marks: {marks} You passed Very well! \")\n",
    "\n",
    "elif marks in range (1,69):\n",
    "    print(f\"Your marks {marks} You have Failed\")\n",
    "\n",
    "else:\n",
    "    print (f\"{marks}: is invalid marks\")\n",
    "    print(\"Enter marks in range of 1-100\")"
   ]
  },
  {
   "cell_type": "code",
   "execution_count": null,
   "metadata": {},
   "outputs": [
    {
     "name": "stdout",
     "output_type": "stream",
     "text": [
      "The sum of 4 and 6 is <function sum at 0x0000026EC3ECF7E0>\n"
     ]
    }
   ],
   "source": [
    "def sum(a,b):\n",
    "    sum = a+b\n",
    "    return sum\n",
    "a= int(input(\"Enter number 1: \"))\n",
    "b=int(input(\"Enter number 2: \"))\n",
    "result=sum(a,b)\n",
    "print(f\"The sum of {a} and {b} is {result}\")\n"
   ]
  }
 ],
 "metadata": {
  "kernelspec": {
   "display_name": "Python 3",
   "language": "python",
   "name": "python3"
  },
  "language_info": {
   "codemirror_mode": {
    "name": "ipython",
    "version": 3
   },
   "file_extension": ".py",
   "mimetype": "text/x-python",
   "name": "python",
   "nbconvert_exporter": "python",
   "pygments_lexer": "ipython3",
   "version": "3.13.1"
  }
 },
 "nbformat": 4,
 "nbformat_minor": 2
}
