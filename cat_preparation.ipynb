{
 "cells": [
  {
   "cell_type": "code",
   "execution_count": null,
   "metadata": {},
   "outputs": [
    {
     "name": "stdout",
     "output_type": "stream",
     "text": [
      "Database mycat not created!\n"
     ]
    }
   ],
   "source": [
    "#creation of database\n",
    "import mysql.connector\n",
    "conn=mysql.connector.connect(host=\"localhost\",user=\"root\",password=\"\")\n",
    "cursor=conn.cursor()\n",
    "\n",
    "db=\"mycat\"\n",
    "\n",
    "try:\n",
    "    cursor.execute(f\"create database {db}\")\n",
    "    print(f\"Database {db} created success!\")\n",
    "\n",
    "except:\n",
    "    print(f\"Database {db} not created!\")\n"
   ]
  },
  {
   "cell_type": "code",
   "execution_count": 39,
   "metadata": {},
   "outputs": [],
   "source": [
    "#most used lines\n",
    "db=\"mycat\"\n",
    "conn=mysql.connector.connect(host=\"localhost\",user=\"root\",password=\"\",database=db)\n",
    "table1=\"course\"\n",
    "cursor=conn.cursor()\n",
    "\n"
   ]
  },
  {
   "cell_type": "code",
   "execution_count": 41,
   "metadata": {},
   "outputs": [
    {
     "name": "stdout",
     "output_type": "stream",
     "text": [
      "failed to create a table: course\n"
     ]
    }
   ],
   "source": [
    "try:\n",
    "    \n",
    "    cursor.execute(f\"\"\"\n",
    "    CREATE TABLE {table1} (\n",
    "    id INT AUTO_INCREMENT PRIMARY KEY,\n",
    "    name VARCHAR(40),\n",
    "    email VARCHAR(40) UNIQUE,\n",
    "    age INT,\n",
    "    gender VARCHAR(10),\n",
    "    major VARCHAR(100)\n",
    "    \n",
    "    )\n",
    "    \"\"\")\n",
    "    print(f\"{table1} Table created successfully!\")\n",
    "except:\n",
    "        print(f'failed to create a table: {table1}')\n",
    "\n",
    "cursor.close()\n",
    "conn.close()"
   ]
  }
 ],
 "metadata": {
  "kernelspec": {
   "display_name": "Python 3",
   "language": "python",
   "name": "python3"
  },
  "language_info": {
   "codemirror_mode": {
    "name": "ipython",
    "version": 3
   },
   "file_extension": ".py",
   "mimetype": "text/x-python",
   "name": "python",
   "nbconvert_exporter": "python",
   "pygments_lexer": "ipython3",
   "version": "3.13.1"
  }
 },
 "nbformat": 4,
 "nbformat_minor": 2
}
