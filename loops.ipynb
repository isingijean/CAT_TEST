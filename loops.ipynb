{
 "cells": [
  {
   "cell_type": "code",
   "execution_count": 12,
   "metadata": {},
   "outputs": [],
   "source": [
    "def l7():{\n",
    "    print(\"Hello, World!\")\n",
    "}"
   ]
  },
  {
   "cell_type": "code",
   "execution_count": 13,
   "metadata": {},
   "outputs": [
    {
     "name": "stdout",
     "output_type": "stream",
     "text": [
      "Hello, World!\n"
     ]
    }
   ],
   "source": [
    "l7()"
   ]
  },
  {
   "cell_type": "code",
   "execution_count": 14,
   "metadata": {},
   "outputs": [
    {
     "name": "stdout",
     "output_type": "stream",
     "text": [
      "Sum is  16\n"
     ]
    }
   ],
   "source": [
    "#arguments\n",
    "def l7(x,y):\n",
    "    \n",
    "       return x+y\n",
    "a=6\n",
    "b=10\n",
    "print(\"Sum is \",l7(a,b))\n",
    "\n",
    "\n",
    "    "
   ]
  },
  {
   "cell_type": "code",
   "execution_count": 15,
   "metadata": {},
   "outputs": [
    {
     "name": "stdout",
     "output_type": "stream",
     "text": [
      "Year of study is:  3 \n",
      "My name is John\n"
     ]
    }
   ],
   "source": [
    "#default parameter Value\n",
    "\n",
    "def l7(year=3,name='John'):\n",
    "    print ('Year of study is: ',year,'\\nMy name is',name)\n",
    "\n",
    "l7()"
   ]
  },
  {
   "cell_type": "code",
   "execution_count": 24,
   "metadata": {},
   "outputs": [
    {
     "name": "stdout",
     "output_type": "stream",
     "text": [
      "mango\tavocado\tbanana\t\t"
     ]
    }
   ],
   "source": [
    "#passing a list as an arguments\n",
    "\n",
    "def list_of_fruits(fruits):\n",
    "    for fruit in fruits:\n",
    "        print(fruit,end='\\t')\n",
    "fruit1=['mango','avocado','banana','']\n",
    "\n",
    "list_of_fruits(fruit1)"
   ]
  },
  {
   "cell_type": "code",
   "execution_count": 22,
   "metadata": {},
   "outputs": [
    {
     "name": "stdout",
     "output_type": "stream",
     "text": [
      "array('i', [20, 19, 18, 17, 65])\n",
      "65\n"
     ]
    }
   ],
   "source": [
    "#ARRAY\n",
    "import array as arr\n",
    "university=arr.array('i',[20,19,18,17,65])\n",
    "\n",
    "print(university)\n",
    "print(university[-1])"
   ]
  },
  {
   "cell_type": "code",
   "execution_count": 42,
   "metadata": {},
   "outputs": [
    {
     "name": "stdout",
     "output_type": "stream",
     "text": [
      "Muhire 30 female Married\n"
     ]
    }
   ],
   "source": [
    "#create a class\n",
    "class Person:\n",
    "    def __init__(self,name,gender,age,status):\n",
    "\n",
    "        self.name=name,\n",
    "        self.gender=gender,\n",
    "        self.age=age,\n",
    "        self.status=status\n",
    "    def my_person(self):\n",
    "        print(self.name,self.age,self.gender,self.status)\n",
    "    \n",
    "\n",
    "#create an object of the class\n",
    "p1= Person('John','male',23,'Married')\n",
    "#update name,gender,age\n",
    "p1.name='Muhire'\n",
    "p1.age=30\n",
    "p1.gender='female'\n",
    "#drop/delete a class property\n",
    "# del p1.status\n",
    "p1.my_person()\n",
    "\n",
    "\n"
   ]
  },
  {
   "cell_type": "code",
   "execution_count": 43,
   "metadata": {},
   "outputs": [
    {
     "data": {
      "text/plain": [
       "'Muhire'"
      ]
     },
     "execution_count": 43,
     "metadata": {},
     "output_type": "execute_result"
    }
   ],
   "source": [
    "class Student(Person):\n",
    "    pass\n",
    "    p1= Person('John','male',23,'Married')\n",
    "p1.name"
   ]
  },
  {
   "cell_type": "code",
   "execution_count": 45,
   "metadata": {},
   "outputs": [
    {
     "name": "stdout",
     "output_type": "stream",
     "text": [
      "54.598150033144236\n"
     ]
    }
   ],
   "source": [
    "import math\n",
    "print(math.exp(4))"
   ]
  },
  {
   "cell_type": "code",
   "execution_count": null,
   "metadata": {},
   "outputs": [
    {
     "name": "stdout",
     "output_type": "stream",
     "text": [
      "2025-02-14\n",
      "11:04:26\n"
     ]
    }
   ],
   "source": [
    "#datetime\n",
    "import datetime as mydate\n",
    "import time\n",
    "print(mydate.date.today())\n",
    "print(time.strftime(\"%H:%M:%S\"))\n"
   ]
  },
  {
   "cell_type": "code",
   "execution_count": 93,
   "metadata": {},
   "outputs": [
    {
     "name": "stdout",
     "output_type": "stream",
     "text": [
      "The number should not devided by zero\n"
     ]
    }
   ],
   "source": [
    "#try and catch\n",
    "try:\n",
    "   x=1\n",
    "   print(x/0)\n",
    "\n",
    "except:\n",
    "      print(\"The number should not devided by zero\")"
   ]
  },
  {
   "cell_type": "code",
   "execution_count": 95,
   "metadata": {},
   "outputs": [
    {
     "name": "stdout",
     "output_type": "stream",
     "text": [
      "11\n"
     ]
    }
   ],
   "source": [
    "try:\n",
    "    x=int(input(\"Enter number 1:\"))\n",
    "    y=int(input(\"Enter number 2:\"))\n",
    "    sum=x+y\n",
    "\n",
    "    print(sum)\n",
    "except:\n",
    "   print('Error')"
   ]
  }
 ],
 "metadata": {
  "kernelspec": {
   "display_name": "Python 3",
   "language": "python",
   "name": "python3"
  },
  "language_info": {
   "codemirror_mode": {
    "name": "ipython",
    "version": 3
   },
   "file_extension": ".py",
   "mimetype": "text/x-python",
   "name": "python",
   "nbconvert_exporter": "python",
   "pygments_lexer": "ipython3",
   "version": "3.13.1"
  }
 },
 "nbformat": 4,
 "nbformat_minor": 2
}
